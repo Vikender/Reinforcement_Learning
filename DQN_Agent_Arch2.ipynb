{
 "cells": [
  {
   "cell_type": "markdown",
   "metadata": {},
   "source": [
    "### Cab-Driver Agent"
   ]
  },
  {
   "cell_type": "code",
   "execution_count": 1,
   "metadata": {},
   "outputs": [
    {
     "name": "stderr",
     "output_type": "stream",
     "text": [
      "f:\\installedsoftware\\anaconda\\envs\\rasa\\lib\\site-packages\\h5py\\__init__.py:36: FutureWarning: Conversion of the second argument of issubdtype from `float` to `np.floating` is deprecated. In future, it will be treated as `np.float64 == np.dtype(float).type`.\n",
      "  from ._conv import register_converters as _register_converters\n",
      "Using TensorFlow backend.\n"
     ]
    }
   ],
   "source": [
    "# Importing libraries\n",
    "import numpy as np\n",
    "import random\n",
    "import math\n",
    "from collections import deque\n",
    "import collections\n",
    "import pickle\n",
    "\n",
    "# for building DQN model\n",
    "from keras import layers\n",
    "from keras import Sequential\n",
    "from keras.layers import Dense, Activation, Flatten\n",
    "from keras.optimizers import Adam\n",
    "\n",
    "# for plotting graphs\n",
    "import matplotlib.pyplot as plt\n",
    "\n",
    "# Import the environment\n",
    "from Env import CabDriver\n",
    "import os\n",
    "import collections\n"
   ]
  },
  {
   "cell_type": "markdown",
   "metadata": {},
   "source": [
    "#### Defining Time Matrix"
   ]
  },
  {
   "cell_type": "code",
   "execution_count": 2,
   "metadata": {},
   "outputs": [],
   "source": [
    "# Loading the time matrix provided\n",
    "Time_matrix = np.load(\"TM.npy\")"
   ]
  },
  {
   "cell_type": "markdown",
   "metadata": {},
   "source": [
    "#### Tracking the state-action pairs for checking convergence\n"
   ]
  },
  {
   "cell_type": "code",
   "execution_count": 3,
   "metadata": {},
   "outputs": [
    {
     "name": "stdout",
     "output_type": "stream",
     "text": [
      "0\n",
      "840\n",
      "0\n"
     ]
    }
   ],
   "source": [
    "Q_dict = collections.defaultdict(dict)\n",
    "\n",
    "States_track = collections.defaultdict(dict)\n",
    "\n",
    "rewards_tracked = {}\n",
    "for i in range(0,5):\n",
    "    for j in range(0,24):\n",
    "        for k in range(0,7):\n",
    "            rewards_tracked[(i,j,k)]=[]\n",
    "\n",
    "\n",
    "print(len(Q_dict))\n",
    "print(len(rewards_tracked))\n",
    "print(len(States_track))\n"
   ]
  },
  {
   "cell_type": "code",
   "execution_count": 4,
   "metadata": {},
   "outputs": [],
   "source": [
    "def save_tracking_states():\n",
    "    for state in States_track.keys():\n",
    "        for action in States_track[state].keys():\n",
    "            if state in Q_dict and action in Q_dict[state]:\n",
    "                States_track[state][action].append(Q_dict[state][action]) "
   ]
  },
  {
   "cell_type": "code",
   "execution_count": 5,
   "metadata": {},
   "outputs": [],
   "source": [
    "total_actions=[(0,0)]\n",
    "for i in range(0,5):\n",
    "    for j in range(0,5):\n",
    "        if i!=j:\n",
    "            total_actions.append((i,j))\n",
    "\n",
    "total_state = [(i,j,k) for i in range(0,5) for j in range(0,24) for k in range(0,7)]\n",
    "\n",
    "for state in total_state:\n",
    "    Q_dict[state] = {}\n",
    "    for action in total_actions:\n",
    "        Q_dict[state][action] = 0.0\n",
    "        "
   ]
  },
  {
   "cell_type": "code",
   "execution_count": 6,
   "metadata": {},
   "outputs": [],
   "source": [
    "def initialise_tracking_states():\n",
    "    for state in total_state:\n",
    "        for action in total_actions:\n",
    "            States_track[state][action] = [] "
   ]
  },
  {
   "cell_type": "code",
   "execution_count": 7,
   "metadata": {},
   "outputs": [],
   "source": [
    "def find_action_indx(val):\n",
    "    for i,item in enumerate(total_actions):\n",
    "        if val == item:\n",
    "            return i\n",
    "    return 0\n",
    "\n",
    "def convert_into_str(arr):\n",
    "    text=\"\"\n",
    "    for val in arr:\n",
    "        text=text+\"-\"+str(int(val))\n",
    "    return text\n",
    "\n"
   ]
  },
  {
   "cell_type": "code",
   "execution_count": 8,
   "metadata": {},
   "outputs": [
    {
     "data": {
      "text/plain": [
       "0.0"
      ]
     },
     "execution_count": 8,
     "metadata": {},
     "output_type": "execute_result"
    }
   ],
   "source": [
    "Q_dict[(0,0,0)][0,1]"
   ]
  },
  {
   "cell_type": "code",
   "execution_count": 9,
   "metadata": {},
   "outputs": [],
   "source": [
    "#Defining a function to save the Q-dictionary as a pickle file\n",
    "def save_obj(obj, name ):\n",
    "    with open(name + '.pkl', 'wb') as f:\n",
    "        pickle.dump(obj, f, pickle.HIGHEST_PROTOCOL)"
   ]
  },
  {
   "cell_type": "markdown",
   "metadata": {},
   "source": [
    "### Agent Class\n",
    "\n",
    "If you are using this framework, you need to fill the following to complete the following code block:\n",
    "1. State and Action Size\n",
    "2. Hyperparameters\n",
    "3. Create a neural-network model in function 'build_model()'\n",
    "4. Define epsilon-greedy strategy in function 'get_action()'\n",
    "5. Complete the function 'append_sample()'. This function appends the recent experience tuple <state, action, reward, new-state> to the memory\n",
    "6. Complete the 'train_model()' function with following logic:\n",
    "   - If the memory size is greater than mini-batch size, you randomly sample experiences from memory as per the mini-batch size and do the following:\n",
    "      - Initialise your input and output batch for training the model\n",
    "      - Calculate the target Q value for each sample: reward + gamma*max(Q(s'a,))\n",
    "      - Get Q(s', a) values from the last trained model\n",
    "      - Update the input batch as your encoded state-action and output batch as your Q-values\n",
    "      - Then fit your DQN model using the updated input and output batch."
   ]
  },
  {
   "cell_type": "code",
   "execution_count": 10,
   "metadata": {},
   "outputs": [],
   "source": [
    "class DQNAgent:\n",
    "    def __init__(self, state_size, action_size):\n",
    "        # Define size of state and action\n",
    "        self.state_size = state_size\n",
    "        self.action_size = action_size\n",
    "\n",
    "        # Write here: Specify you hyper parameters for the DQN\n",
    "        self.discount_factor = 0.75\n",
    "        self.learning_rate =  0.01    \n",
    "        self.epsilon_max = 0.99\n",
    "        self.epsilon_decay = -0.00005\n",
    "        self.epsilon_min = 0.01\n",
    "        self.batch_size = 32\n",
    "        self.epsilon = 1\n",
    "        # create replay memory using deque\n",
    "        self.memory = deque(maxlen=2000)\n",
    "\n",
    "        # create main model and target model\n",
    "        self.model = self.build_model()\n",
    "\n",
    "\n",
    "    # approximate Q function using Neural Network\n",
    "    def build_model(self):\n",
    "        input_shape=self.state_size\n",
    "        model = Sequential()\n",
    "        # Write your code here: Add layers to your neural nets\n",
    "        model.add(Dense(32, input_dim=self.state_size, activation='relu', kernel_initializer='he_uniform'))\n",
    "        model.add(Dense(32, activation='relu', kernel_initializer='he_uniform'))\n",
    "\n",
    "        # the output layer: output is of size num_actions\n",
    "        model.add(Dense(self.action_size, activation='relu', kernel_initializer='he_uniform'))\n",
    "        \n",
    "        model.compile(loss='mse',optimizer=Adam(lr=self.learning_rate))\n",
    "        model.summary\n",
    "        return model\n",
    "\n",
    "\n",
    "\n",
    "    def get_action(self, state, action):\n",
    "        # Write your code here:\n",
    "        # get action from model using epsilon-greedy policy\n",
    "        # Decay in ε after we generate each sample from the environment\n",
    "        if np.random.rand() <= self.epsilon:\n",
    "            return action[random.randrange(self.action_size)]\n",
    "        else:\n",
    "            state = state.reshape(1, self.state_size)\n",
    "            q_value = self.model.predict(state)\n",
    "            return total_actions[np.argmax(q_value[0])]\n",
    "\n",
    "        \n",
    "    \n",
    "\n",
    "    def append_sample(self, state, action, reward, next_state):\n",
    "        # Write your code here:\n",
    "        # save sample <s,a,r,s'> to the replay memory\n",
    "        self.memory.append((state, action, reward, next_state))\n",
    "    \n",
    "\n",
    "    # pick samples randomly from replay memory (with batch_size) and train the network\n",
    "    def train_model(self,terminal_state):\n",
    "        if len(self.memory) > self.batch_size:\n",
    "            # Sample batch from the memory\n",
    "            mini_batch = random.sample(self.memory, self.batch_size)\n",
    "            update_output = np.zeros((self.batch_size, self.state_size))\n",
    "            update_input = np.zeros((self.batch_size, self.state_size))\n",
    "            actions, rewards = [], []\n",
    "            \n",
    "            for i in range(self.batch_size):\n",
    "                state, action, reward, next_state = mini_batch[i]\n",
    "                state_encod = env.state_encod_arch2(state,action)\n",
    "                \n",
    "                update_input[i] = state_encod\n",
    "                actions.append(action)\n",
    "                rewards.append(reward)\n",
    "                update_output[i] = env.state_encod_arch2(next_state,(0,0))\n",
    "            \n",
    "            target = self.model.predict(update_input)\n",
    "\n",
    "            target_qval = self.model.predict(update_output)\n",
    "            for i in range(self.batch_size):\n",
    "                if terminal_state:\n",
    "                    target[i][find_action_indx(actions[i])] = rewards[i]\n",
    "                else: # non-terminal state\n",
    "                    target[i][find_action_indx(actions[i])] = rewards[i] + self.discount_factor * np.max(target_qval[i])\n",
    "\n",
    "            # model fit\n",
    "            self.model.fit(update_input, target, batch_size=self.batch_size, epochs=1, verbose=0)\n",
    "                \n",
    "        # 4. Fit your model and track the loss values\n",
    "\n",
    "\n",
    "\n",
    "    def save(self, name):\n",
    "        self.model.save_weights(name)"
   ]
  },
  {
   "cell_type": "code",
   "execution_count": 12,
   "metadata": {},
   "outputs": [],
   "source": [
    "Episodes = 20000"
   ]
  },
  {
   "cell_type": "markdown",
   "metadata": {},
   "source": [
    "### DQN block"
   ]
  },
  {
   "cell_type": "code",
   "execution_count": null,
   "metadata": {},
   "outputs": [
    {
     "name": "stdout",
     "output_type": "stream",
     "text": [
      "episode 10000, reward 689.0, memory_length 722, epsilon 0.6065245944060363\n",
      "episode 10001, reward 1990.0, memory_length 1444, epsilon 0.6064942689344591\n",
      "episode 10002, reward 1873.0, memory_length 2000, epsilon 0.6064639449791176\n",
      "episode 10003, reward 2287.0, memory_length 2000, epsilon 0.6064336225399359\n",
      "episode 10004, reward 1193.0, memory_length 2000, epsilon 0.6064033016168383\n",
      "episode 10005, reward 1072.0, memory_length 2000, epsilon 0.606372982209749\n",
      "episode 10006, reward 1556.0, memory_length 2000, epsilon 0.6063426643185921\n",
      "episode 10007, reward 1673.0, memory_length 2000, epsilon 0.6063123479432918\n",
      "episode 10008, reward 571.0, memory_length 2000, epsilon 0.6062820330837725\n",
      "episode 10009, reward 660.0, memory_length 2000, epsilon 0.6062517197399583\n",
      "episode 10010, reward 881.0, memory_length 2000, epsilon 0.6062214079117733\n",
      "episode 10011, reward 1215.0, memory_length 2000, epsilon 0.6061910975991418\n",
      "episode 10012, reward 1614.0, memory_length 2000, epsilon 0.6061607888019881\n",
      "episode 10013, reward 1483.0, memory_length 2000, epsilon 0.6061304815202363\n",
      "episode 10014, reward 1826.0, memory_length 2000, epsilon 0.6061001757538108\n",
      "episode 10015, reward 1255.0, memory_length 2000, epsilon 0.6060698715026357\n",
      "episode 10016, reward 896.0, memory_length 2000, epsilon 0.6060395687666352\n",
      "episode 10017, reward 1546.0, memory_length 2000, epsilon 0.6060092675457338\n",
      "episode 10018, reward 1543.0, memory_length 2000, epsilon 0.6059789678398554\n",
      "episode 10019, reward 2168.0, memory_length 2000, epsilon 0.6059486696489246\n",
      "episode 10020, reward 1845.0, memory_length 2000, epsilon 0.6059183729728653\n",
      "episode 10021, reward 2417.0, memory_length 2000, epsilon 0.605888077811602\n",
      "episode 10022, reward 2519.0, memory_length 2000, epsilon 0.605857784165059\n",
      "episode 10023, reward 2704.0, memory_length 2000, epsilon 0.6058274920331602\n",
      "episode 10024, reward 2155.0, memory_length 2000, epsilon 0.6057972014158304\n",
      "episode 10025, reward 2144.0, memory_length 2000, epsilon 0.6057669123129934\n",
      "episode 10026, reward 2597.0, memory_length 2000, epsilon 0.6057366247245738\n",
      "episode 10027, reward 2611.0, memory_length 2000, epsilon 0.6057063386504957\n",
      "episode 10028, reward 3773.0, memory_length 2000, epsilon 0.6056760540906835\n",
      "episode 10029, reward 3193.0, memory_length 2000, epsilon 0.6056457710450615\n",
      "episode 10030, reward 3986.0, memory_length 2000, epsilon 0.6056154895135538\n",
      "episode 10031, reward 3150.0, memory_length 2000, epsilon 0.6055852094960849\n",
      "episode 10032, reward 3812.0, memory_length 2000, epsilon 0.605554930992579\n",
      "episode 10033, reward 3326.0, memory_length 2000, epsilon 0.6055246540029603\n",
      "episode 10034, reward 3145.0, memory_length 2000, epsilon 0.6054943785271535\n",
      "episode 10035, reward 2966.0, memory_length 2000, epsilon 0.6054641045650824\n",
      "episode 10036, reward 4070.0, memory_length 2000, epsilon 0.6054338321166717\n",
      "episode 10037, reward 2382.0, memory_length 2000, epsilon 0.6054035611818456\n",
      "episode 10038, reward 2405.0, memory_length 2000, epsilon 0.6053732917605282\n",
      "episode 10039, reward 2901.0, memory_length 2000, epsilon 0.6053430238526443\n",
      "episode 10040, reward 2977.0, memory_length 2000, epsilon 0.6053127574581179\n",
      "episode 10041, reward 2803.0, memory_length 2000, epsilon 0.6052824925768732\n",
      "episode 10042, reward 3005.0, memory_length 2000, epsilon 0.6052522292088348\n",
      "episode 10043, reward 1712.0, memory_length 2000, epsilon 0.6052219673539271\n",
      "episode 10044, reward 3342.0, memory_length 2000, epsilon 0.6051917070120743\n",
      "episode 10045, reward 4031.0, memory_length 2000, epsilon 0.6051614481832007\n",
      "episode 10046, reward 3226.0, memory_length 2000, epsilon 0.6051311908672308\n",
      "episode 10047, reward 2851.0, memory_length 2000, epsilon 0.6051009350640887\n",
      "episode 10048, reward 1997.0, memory_length 2000, epsilon 0.6050706807736991\n",
      "episode 10049, reward 2954.0, memory_length 2000, epsilon 0.6050404279959861\n",
      "episode 10050, reward 2502.0, memory_length 2000, epsilon 0.6050101767308742\n",
      "episode 10051, reward 2049.0, memory_length 2000, epsilon 0.6049799269782878\n",
      "episode 10052, reward 2861.0, memory_length 2000, epsilon 0.6049496787381513\n",
      "episode 10053, reward 1837.0, memory_length 2000, epsilon 0.6049194320103889\n",
      "episode 10054, reward 2498.0, memory_length 2000, epsilon 0.604889186794925\n",
      "episode 10055, reward 1933.0, memory_length 2000, epsilon 0.6048589430916842\n",
      "episode 10056, reward 2244.0, memory_length 2000, epsilon 0.6048287009005907\n",
      "episode 10057, reward 2833.0, memory_length 2000, epsilon 0.6047984602215689\n",
      "episode 10058, reward 1868.0, memory_length 2000, epsilon 0.6047682210545433\n",
      "episode 10059, reward 2376.0, memory_length 2000, epsilon 0.6047379833994382\n",
      "episode 10060, reward 3275.0, memory_length 2000, epsilon 0.6047077472561782\n",
      "episode 10061, reward 2199.0, memory_length 2000, epsilon 0.6046775126246874\n",
      "episode 10062, reward 2633.0, memory_length 2000, epsilon 0.6046472795048905\n",
      "episode 10063, reward 2825.0, memory_length 2000, epsilon 0.6046170478967118\n",
      "episode 10064, reward 2164.0, memory_length 2000, epsilon 0.6045868178000756\n",
      "episode 10065, reward 1555.0, memory_length 2000, epsilon 0.6045565892149065\n",
      "episode 10066, reward 1201.0, memory_length 2000, epsilon 0.604526362141129\n",
      "episode 10067, reward 2936.0, memory_length 2000, epsilon 0.6044961365786672\n",
      "episode 10068, reward 1463.0, memory_length 2000, epsilon 0.6044659125274459\n",
      "episode 10069, reward 1586.0, memory_length 2000, epsilon 0.6044356899873893\n",
      "episode 10070, reward 2836.0, memory_length 2000, epsilon 0.604405468958422\n",
      "episode 10071, reward 2177.0, memory_length 2000, epsilon 0.6043752494404683\n",
      "episode 10072, reward 2130.0, memory_length 2000, epsilon 0.6043450314334528\n",
      "episode 10073, reward 2624.0, memory_length 2000, epsilon 0.6043148149372998\n",
      "episode 10074, reward 3327.0, memory_length 2000, epsilon 0.6042845999519338\n",
      "episode 10075, reward 1127.0, memory_length 2000, epsilon 0.6042543864772794\n",
      "episode 10076, reward 2489.0, memory_length 2000, epsilon 0.6042241745132608\n",
      "episode 10077, reward 2824.0, memory_length 2000, epsilon 0.6041939640598029\n",
      "episode 10078, reward 2713.0, memory_length 2000, epsilon 0.6041637551168297\n",
      "episode 10079, reward 3113.0, memory_length 2000, epsilon 0.6041335476842661\n",
      "episode 10080, reward 1462.0, memory_length 2000, epsilon 0.6041033417620362\n",
      "episode 10081, reward 1754.0, memory_length 2000, epsilon 0.6040731373500647\n",
      "episode 10082, reward 2309.0, memory_length 2000, epsilon 0.604042934448276\n",
      "episode 10083, reward 3088.0, memory_length 2000, epsilon 0.6040127330565946\n",
      "episode 10084, reward 1704.0, memory_length 2000, epsilon 0.6039825331749452\n",
      "episode 10085, reward 2098.0, memory_length 2000, epsilon 0.6039523348032521\n",
      "episode 10086, reward 2807.0, memory_length 2000, epsilon 0.6039221379414397\n",
      "episode 10087, reward 1355.0, memory_length 2000, epsilon 0.6038919425894327\n",
      "episode 10088, reward 2420.0, memory_length 2000, epsilon 0.6038617487471556\n",
      "episode 10089, reward 2875.0, memory_length 2000, epsilon 0.6038315564145328\n",
      "episode 10090, reward 1734.0, memory_length 2000, epsilon 0.6038013655914889\n",
      "episode 10091, reward 1608.0, memory_length 2000, epsilon 0.6037711762779485\n",
      "episode 10092, reward 1071.0, memory_length 2000, epsilon 0.603740988473836\n",
      "episode 10093, reward 772.0, memory_length 2000, epsilon 0.603710802179076\n",
      "episode 10094, reward 2335.0, memory_length 2000, epsilon 0.6036806173935929\n",
      "episode 10095, reward 1939.0, memory_length 2000, epsilon 0.6036504341173115\n",
      "episode 10096, reward 980.0, memory_length 2000, epsilon 0.603620252350156\n",
      "episode 10097, reward 1213.0, memory_length 2000, epsilon 0.6035900720920513\n",
      "episode 10098, reward 1653.0, memory_length 2000, epsilon 0.6035598933429217\n",
      "episode 10099, reward 2160.0, memory_length 2000, epsilon 0.6035297161026919\n",
      "episode 10100, reward 1866.0, memory_length 2000, epsilon 0.6034995403712863\n",
      "episode 10101, reward 2216.0, memory_length 2000, epsilon 0.6034693661486297\n",
      "episode 10102, reward 2214.0, memory_length 2000, epsilon 0.6034391934346462\n",
      "episode 10103, reward 1397.0, memory_length 2000, epsilon 0.603409022229261\n",
      "episode 10104, reward 1627.0, memory_length 2000, epsilon 0.6033788525323982\n",
      "episode 10105, reward 1783.0, memory_length 2000, epsilon 0.6033486843439826\n",
      "episode 10106, reward 631.0, memory_length 2000, epsilon 0.6033185176639387\n"
     ]
    },
    {
     "name": "stdout",
     "output_type": "stream",
     "text": [
      "episode 10107, reward 2840.0, memory_length 2000, epsilon 0.6032883524921909\n",
      "episode 10108, reward 2118.0, memory_length 2000, epsilon 0.6032581888286643\n",
      "episode 10109, reward 2188.0, memory_length 2000, epsilon 0.603228026673283\n",
      "episode 10110, reward 1627.0, memory_length 2000, epsilon 0.6031978660259718\n",
      "episode 10111, reward 1524.0, memory_length 2000, epsilon 0.6031677068866553\n"
     ]
    }
   ],
   "source": [
    "env = CabDriver()\n",
    "state_size = 5+7+24+5+5 # equal to 4 in case of cartpole \n",
    "action_size = len(env.action_space)            # equal to 2 in case of cartpole\n",
    "agent= DQNAgent(state_size,action_size)\n",
    "rewards_per_episode, episodes = [], []\n",
    "\n",
    "LR = agent.learning_rate\n",
    "GAMMA = agent.discount_factor\n",
    "threshold = 1000\n",
    "policy_threshold = 1000\n",
    "if not os.path.exists(\"saved_model_weights\"):\n",
    "    os.mkdir(\"saved_model_weights\")\n",
    "    \n",
    "for episode in range(10000,Episodes):\n",
    "    \n",
    "    score = 0\n",
    "    time_stamp=0\n",
    "    action_space,state_space,state = env.reset()\n",
    "    # Write code here\n",
    "    # Call the environment\n",
    "    # Call all the initialised variables of the environment\n",
    "#     agent.epsilon = - 1/ (1 + np.exp((-episode+7500000)/17000000)) + 1\n",
    "    agent.epsilon = (1 - 0.00001) * np.exp(agent.epsilon_decay * episode)\n",
    "    \n",
    "    initial_state = env.state_init\n",
    "    #Call the DQN agent\n",
    "    terminal_state=False\n",
    "    while not terminal_state:\n",
    "#         agent.epsilon = agent.epsilon_min + (agent.epsilon_max - agent.epsilon_min) * np.exp(-agent.epsilon_decay*episode)\n",
    "        if time_stamp > 30*24:\n",
    "            terminal_state=True;\n",
    "        z = np.random.random()\n",
    "        time_stamp+=1\n",
    "        action = env.requests(state)[1]\n",
    "        agent.action_size=len(action)\n",
    "        take_action=agent.get_action(env.state_encod_arch2(state,(0,0)),action)\n",
    "        next_state = env.next_state_func(state,take_action,Time_matrix)\n",
    "        reward= env.reward_func(state,take_action,Time_matrix)\n",
    "        agent.append_sample(state, take_action, reward, next_state)\n",
    "        max_next = max(Q_dict[next_state],key=Q_dict[next_state].get)\n",
    "        Q_dict[state][take_action] += LR * ((reward + (GAMMA*(Q_dict[next_state][max_next]))) - Q_dict[state][take_action] ) \n",
    "            \n",
    "\n",
    "            \n",
    "        score += reward\n",
    "        state = next_state\n",
    "\n",
    "        agent.train_model(terminal_state)\n",
    "        \n",
    "    \n",
    "        \n",
    "    rewards_per_episode.append(score)\n",
    "    episodes.append(episode)\n",
    "    \n",
    "\n",
    "        \n",
    "    print(\"episode {0}, reward {1}, memory_length {2}, epsilon {3}\".format(episode,\n",
    "                                                                         score,\n",
    "                                                                         len(agent.memory),\n",
    "                                                                         agent.epsilon))\n",
    "    if episode % 10 == 0:\n",
    "        # store q-values of some prespecified state-action pairs\n",
    "        # q_dict = agent.store_q_values()\n",
    "\n",
    "        # save model weights\n",
    "        agent.save(name=\"model_weights.h5\")\n",
    "\n",
    "    if initial_state in rewards_tracked:     #storing rewards\n",
    "        rewards_tracked[initial_state].append(score)\n",
    "        #save_obj(rewards_tracked,'Rewards')\n",
    "\n",
    "    if ((episode+1) % threshold) == 0:   #every 2000th episode\n",
    "        save_obj(rewards_tracked,'Rewards')   \n",
    "    \n",
    "    #TRACKING Q-VALUES\n",
    "    if (episode == threshold+10000):      #at the 1999th episode\n",
    "        print(\"initializing initialise_tracking_states.........................\")\n",
    "        initialise_tracking_states()\n",
    "      \n",
    "    if ((episode+1) % threshold) == 0:   #every 2000th episode\n",
    "        save_tracking_states()\n",
    "        save_obj(States_track,'States_tracked')   \n",
    "    \n",
    "    #SAVING POLICY\n",
    "    if ((episode+1)% policy_threshold ) == 0:  #every 30000th episodes, the Q-dict will be saved\n",
    "        save_obj(Q_dict,'Policy')    \n",
    "        \n",
    "        \n",
    "save_obj(rewards_tracked,'Rewards')   \n",
    "save_obj(States_track,'States_tracked')   \n",
    "save_obj(Q_dict,'Policy')      \n",
    "print(episode)\n",
    "    \n",
    "    "
   ]
  },
  {
   "cell_type": "code",
   "execution_count": null,
   "metadata": {},
   "outputs": [],
   "source": [
    "env.state_space"
   ]
  },
  {
   "cell_type": "markdown",
   "metadata": {},
   "source": [
    "### Tracking Convergence"
   ]
  },
  {
   "cell_type": "code",
   "execution_count": null,
   "metadata": {},
   "outputs": [],
   "source": [
    "with open('Policy.pkl', 'rb') as handle:\n",
    "    Q_dict = pickle.load(handle)\n",
    "    \n",
    "with open('Rewards.pkl', 'rb') as handle:\n",
    "    rewards_tracked = pickle.load(handle)    \n",
    "\n",
    "with open('States_tracked.pkl', 'rb') as handle:\n",
    "    States_track = pickle.load(handle)    \n",
    "    \n",
    "print(len(Q_dict))\n",
    "print(len(rewards_tracked))\n",
    "print(len(States_track))\n",
    "States_track"
   ]
  },
  {
   "cell_type": "code",
   "execution_count": 15,
   "metadata": {},
   "outputs": [
    {
     "data": {
      "text/plain": [
       "defaultdict(dict, {})"
      ]
     },
     "execution_count": 15,
     "metadata": {},
     "output_type": "execute_result"
    }
   ],
   "source": [
    "States_track"
   ]
  },
  {
   "cell_type": "markdown",
   "metadata": {},
   "source": [
    "#### Epsilon-decay sample function"
   ]
  },
  {
   "cell_type": "markdown",
   "metadata": {},
   "source": [
    "<div class=\"alert alert-block alert-info\">\n",
    "Try building a similar epsilon-decay function for your model.\n",
    "</div>"
   ]
  },
  {
   "cell_type": "code",
   "execution_count": null,
   "metadata": {},
   "outputs": [],
   "source": [
    "time = np.arange(0,10000)\n",
    "epsilon = []\n",
    "for i in range(0,10000):\n",
    "    epsilon.append(0 + (1 - 0) * np.exp(-0.0009*i))"
   ]
  },
  {
   "cell_type": "code",
   "execution_count": null,
   "metadata": {},
   "outputs": [],
   "source": [
    "plt.plot(time, epsilon)\n",
    "plt.show()"
   ]
  },
  {
   "cell_type": "code",
   "execution_count": null,
   "metadata": {},
   "outputs": [],
   "source": [
    "env = CabDriver()\n",
    "state_size = env.state_space.shape[0]"
   ]
  },
  {
   "cell_type": "code",
   "execution_count": null,
   "metadata": {},
   "outputs": [],
   "source": [
    "state_size"
   ]
  },
  {
   "cell_type": "code",
   "execution_count": null,
   "metadata": {},
   "outputs": [],
   "source": []
  },
  {
   "cell_type": "code",
   "execution_count": null,
   "metadata": {},
   "outputs": [],
   "source": [
    "\n"
   ]
  },
  {
   "cell_type": "code",
   "execution_count": null,
   "metadata": {},
   "outputs": [],
   "source": []
  },
  {
   "cell_type": "code",
   "execution_count": null,
   "metadata": {},
   "outputs": [],
   "source": []
  },
  {
   "cell_type": "code",
   "execution_count": null,
   "metadata": {},
   "outputs": [],
   "source": []
  },
  {
   "cell_type": "code",
   "execution_count": null,
   "metadata": {},
   "outputs": [],
   "source": []
  },
  {
   "cell_type": "code",
   "execution_count": null,
   "metadata": {},
   "outputs": [],
   "source": []
  },
  {
   "cell_type": "code",
   "execution_count": null,
   "metadata": {},
   "outputs": [],
   "source": [
    "np.argmax([10,14,15,45])"
   ]
  },
  {
   "cell_type": "code",
   "execution_count": null,
   "metadata": {},
   "outputs": [],
   "source": []
  },
  {
   "cell_type": "code",
   "execution_count": null,
   "metadata": {},
   "outputs": [],
   "source": []
  },
  {
   "cell_type": "code",
   "execution_count": null,
   "metadata": {},
   "outputs": [],
   "source": []
  }
 ],
 "metadata": {
  "kernelspec": {
   "display_name": "Python 3",
   "language": "python",
   "name": "python3"
  },
  "language_info": {
   "codemirror_mode": {
    "name": "ipython",
    "version": 3
   },
   "file_extension": ".py",
   "mimetype": "text/x-python",
   "name": "python",
   "nbconvert_exporter": "python",
   "pygments_lexer": "ipython3",
   "version": "3.6.8"
  }
 },
 "nbformat": 4,
 "nbformat_minor": 2
}
