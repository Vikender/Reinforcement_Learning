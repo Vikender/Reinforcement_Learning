{
 "cells": [
  {
   "cell_type": "markdown",
   "metadata": {},
   "source": [
    "### Cab-Driver Agent"
   ]
  },
  {
   "cell_type": "code",
   "execution_count": 1,
   "metadata": {},
   "outputs": [
    {
     "name": "stderr",
     "output_type": "stream",
     "text": [
      "f:\\installedsoftware\\anaconda\\envs\\rasa\\lib\\site-packages\\h5py\\__init__.py:36: FutureWarning: Conversion of the second argument of issubdtype from `float` to `np.floating` is deprecated. In future, it will be treated as `np.float64 == np.dtype(float).type`.\n",
      "  from ._conv import register_converters as _register_converters\n",
      "Using TensorFlow backend.\n"
     ]
    }
   ],
   "source": [
    "# Importing libraries\n",
    "import numpy as np\n",
    "import random\n",
    "import math\n",
    "from collections import deque\n",
    "import collections\n",
    "import pickle\n",
    "\n",
    "# for building DQN model\n",
    "from keras import layers\n",
    "from keras import Sequential\n",
    "from keras.layers import Dense, Activation, Flatten\n",
    "from keras.optimizers import Adam\n",
    "\n",
    "# for plotting graphs\n",
    "import matplotlib.pyplot as plt\n",
    "\n",
    "# Import the environment\n",
    "from Env import CabDriver\n",
    "import os\n",
    "import collections\n"
   ]
  },
  {
   "cell_type": "markdown",
   "metadata": {},
   "source": [
    "#### Defining Time Matrix"
   ]
  },
  {
   "cell_type": "code",
   "execution_count": 2,
   "metadata": {},
   "outputs": [],
   "source": [
    "# Loading the time matrix provided\n",
    "Time_matrix = np.load(\"TM.npy\")"
   ]
  },
  {
   "cell_type": "markdown",
   "metadata": {},
   "source": [
    "#### Tracking the state-action pairs for checking convergence\n"
   ]
  },
  {
   "cell_type": "code",
   "execution_count": 3,
   "metadata": {},
   "outputs": [
    {
     "name": "stdout",
     "output_type": "stream",
     "text": [
      "0\n",
      "840\n",
      "0\n"
     ]
    }
   ],
   "source": [
    "Q_dict = collections.defaultdict(dict)\n",
    "\n",
    "States_track = collections.defaultdict(dict)\n",
    "\n",
    "rewards_tracked = {}\n",
    "for i in range(0,5):\n",
    "    for j in range(0,24):\n",
    "        for k in range(0,7):\n",
    "            rewards_tracked[(i,j,k)]=[]\n",
    "\n",
    "\n",
    "print(len(Q_dict))\n",
    "print(len(rewards_tracked))\n",
    "print(len(States_track))\n"
   ]
  },
  {
   "cell_type": "code",
   "execution_count": 4,
   "metadata": {},
   "outputs": [],
   "source": [
    "total_actions=[(0,0)]\n",
    "for i in range(0,5):\n",
    "    for j in range(0,5):\n",
    "        if i!=j:\n",
    "            total_actions.append((i,j))\n",
    "\n",
    "total_state = [(i,j,k) for i in range(0,5) for j in range(0,24) for k in range(0,7)]\n",
    "\n",
    "for state in total_state:\n",
    "    Q_dict[state] = {}\n",
    "    for action in total_actions:\n",
    "        Q_dict[state][action] = 0.0\n",
    "        "
   ]
  },
  {
   "cell_type": "code",
   "execution_count": 5,
   "metadata": {},
   "outputs": [],
   "source": [
    "def find_action_indx(val):\n",
    "    for i,item in enumerate(total_actions):\n",
    "        if val == item:\n",
    "            return i\n",
    "    return 0\n",
    "\n",
    "def convert_into_str(arr):\n",
    "    text=\"\"\n",
    "    for val in arr:\n",
    "        text=text+\"-\"+str(int(val))\n",
    "    return text\n",
    "\n"
   ]
  },
  {
   "cell_type": "code",
   "execution_count": 6,
   "metadata": {},
   "outputs": [
    {
     "data": {
      "text/plain": [
       "0.0"
      ]
     },
     "execution_count": 6,
     "metadata": {},
     "output_type": "execute_result"
    }
   ],
   "source": [
    "Q_dict[(0,0,0)][0,1]"
   ]
  },
  {
   "cell_type": "code",
   "execution_count": 7,
   "metadata": {},
   "outputs": [],
   "source": [
    "#Defining a function to save the Q-dictionary as a pickle file\n",
    "def save_obj(obj, name ):\n",
    "    with open(name + '.pkl', 'wb') as f:\n",
    "        pickle.dump(obj, f, pickle.HIGHEST_PROTOCOL)"
   ]
  },
  {
   "cell_type": "markdown",
   "metadata": {},
   "source": [
    "### Agent Class\n",
    "\n",
    "If you are using this framework, you need to fill the following to complete the following code block:\n",
    "1. State and Action Size\n",
    "2. Hyperparameters\n",
    "3. Create a neural-network model in function 'build_model()'\n",
    "4. Define epsilon-greedy strategy in function 'get_action()'\n",
    "5. Complete the function 'append_sample()'. This function appends the recent experience tuple <state, action, reward, new-state> to the memory\n",
    "6. Complete the 'train_model()' function with following logic:\n",
    "   - If the memory size is greater than mini-batch size, you randomly sample experiences from memory as per the mini-batch size and do the following:\n",
    "      - Initialise your input and output batch for training the model\n",
    "      - Calculate the target Q value for each sample: reward + gamma*max(Q(s'a,))\n",
    "      - Get Q(s', a) values from the last trained model\n",
    "      - Update the input batch as your encoded state-action and output batch as your Q-values\n",
    "      - Then fit your DQN model using the updated input and output batch."
   ]
  },
  {
   "cell_type": "code",
   "execution_count": 8,
   "metadata": {},
   "outputs": [],
   "source": [
    "class DQNAgent:\n",
    "    def __init__(self, state_size, action_size):\n",
    "        # Define size of state and action\n",
    "        self.state_size = state_size\n",
    "        self.action_size = action_size\n",
    "\n",
    "        # Write here: Specify you hyper parameters for the DQN\n",
    "        self.discount_factor = 0.75\n",
    "        self.learning_rate =  0.01    \n",
    "        self.epsilon_max = 0.99\n",
    "        self.epsilon_decay = -0.00005\n",
    "        self.epsilon_min = 0.01\n",
    "        self.batch_size = 32\n",
    "        self.epsilon = 1\n",
    "        # create replay memory using deque\n",
    "        self.memory = deque(maxlen=2000)\n",
    "\n",
    "        # create main model and target model\n",
    "        self.model = self.build_model()\n",
    "\n",
    "\n",
    "    # approximate Q function using Neural Network\n",
    "    def build_model(self):\n",
    "        input_shape=self.state_size\n",
    "        model = Sequential()\n",
    "        # Write your code here: Add layers to your neural nets\n",
    "        model.add(Dense(32, input_dim=self.state_size, activation='relu', kernel_initializer='he_uniform'))\n",
    "        model.add(Dense(32, activation='relu', kernel_initializer='he_uniform'))\n",
    "\n",
    "        # the output layer: output is of size num_actions\n",
    "        model.add(Dense(self.action_size, activation='relu', kernel_initializer='he_uniform'))\n",
    "        \n",
    "        model.compile(loss='mse',optimizer=Adam(lr=self.learning_rate))\n",
    "        model.summary\n",
    "        return model\n",
    "\n",
    "\n",
    "\n",
    "    def get_action(self, state, action):\n",
    "        # Write your code here:\n",
    "        # get action from model using epsilon-greedy policy\n",
    "        # Decay in ε after we generate each sample from the environment\n",
    "        if np.random.rand() <= self.epsilon:\n",
    "            return action[random.randrange(self.action_size)]\n",
    "        else:\n",
    "            state = state.reshape(1, self.state_size)\n",
    "            q_value = self.model.predict(state)\n",
    "            return total_actions[np.argmax(q_value[0])]\n",
    "\n",
    "        \n",
    "    \n",
    "\n",
    "    def append_sample(self, state, action, reward, next_state):\n",
    "        # Write your code here:\n",
    "        # save sample <s,a,r,s'> to the replay memory\n",
    "        self.memory.append((state, action, reward, next_state))\n",
    "    \n",
    "\n",
    "    # pick samples randomly from replay memory (with batch_size) and train the network\n",
    "    def train_model(self,terminal_state):\n",
    "        if len(self.memory) > self.batch_size:\n",
    "            # Sample batch from the memory\n",
    "            mini_batch = random.sample(self.memory, self.batch_size)\n",
    "            update_output = np.zeros((self.batch_size, self.state_size))\n",
    "            update_input = np.zeros((self.batch_size, self.state_size))\n",
    "            actions, rewards = [], []\n",
    "            \n",
    "            for i in range(self.batch_size):\n",
    "                state, action, reward, next_state = mini_batch[i]\n",
    "                state_encod = env.state_encod_arch2(state,action)\n",
    "                \n",
    "                update_input[i] = state_encod\n",
    "                actions.append(action)\n",
    "                rewards.append(reward)\n",
    "                update_output[i] = env.state_encod_arch2(next_state,(0,0))\n",
    "            \n",
    "            target = self.model.predict(update_input)\n",
    "\n",
    "            target_qval = self.model.predict(update_output)\n",
    "            for i in range(self.batch_size):\n",
    "                if terminal_state:\n",
    "                    target[i][find_action_indx(actions[i])] = rewards[i]\n",
    "                else: # non-terminal state\n",
    "                    target[i][find_action_indx(actions[i])] = rewards[i] + self.discount_factor * np.max(target_qval[i])\n",
    "\n",
    "            # model fit\n",
    "            self.model.fit(update_input, target, batch_size=self.batch_size, epochs=1, verbose=0)\n",
    "                \n",
    "        # 4. Fit your model and track the loss values\n",
    "\n",
    "\n",
    "\n",
    "    def save(self, name):\n",
    "        self.model.save_weights(name)"
   ]
  },
  {
   "cell_type": "code",
   "execution_count": 9,
   "metadata": {},
   "outputs": [],
   "source": [
    "Episodes = 20000"
   ]
  },
  {
   "cell_type": "markdown",
   "metadata": {},
   "source": [
    "### DQN block"
   ]
  },
  {
   "cell_type": "code",
   "execution_count": null,
   "metadata": {},
   "outputs": [
    {
     "name": "stdout",
     "output_type": "stream",
     "text": [
      "episode 10000, reward 2389.0, memory_length 722, epsilon -3.032622972030182e-05\n",
      "episode 10001, reward 3223.0, memory_length 1444, epsilon -3.0324713446722957e-05\n",
      "episode 10002, reward 4429.0, memory_length 2000, epsilon -3.032319724895588e-05\n",
      "episode 10003, reward 4822.0, memory_length 2000, epsilon -3.0321681126996798e-05\n",
      "episode 10004, reward 3691.0, memory_length 2000, epsilon -3.0320165080841918e-05\n",
      "episode 10005, reward 3502.0, memory_length 2000, epsilon -3.031864911048745e-05\n",
      "episode 10006, reward 5547.0, memory_length 2000, epsilon -3.0317133215929605e-05\n",
      "episode 10007, reward 3574.0, memory_length 2000, epsilon -3.0315617397164592e-05\n",
      "episode 10008, reward 2369.0, memory_length 2000, epsilon -3.0314101654188625e-05\n",
      "episode 10009, reward 3001.0, memory_length 2000, epsilon -3.0312585986997916e-05\n",
      "episode 10010, reward 3191.0, memory_length 2000, epsilon -3.0311070395588666e-05\n",
      "episode 10011, reward 2795.0, memory_length 2000, epsilon -3.030955487995709e-05\n",
      "episode 10012, reward 2696.0, memory_length 2000, epsilon -3.0308039440099405e-05\n",
      "episode 10013, reward 572.0, memory_length 2000, epsilon -3.0306524076011816e-05\n",
      "episode 10014, reward 1563.0, memory_length 2000, epsilon -3.030500878769054e-05\n",
      "episode 10015, reward 1864.0, memory_length 2000, epsilon -3.0303493575131786e-05\n",
      "episode 10016, reward 2507.0, memory_length 2000, epsilon -3.0301978438331763e-05\n",
      "episode 10017, reward 3392.0, memory_length 2000, epsilon -3.030046337728669e-05\n",
      "episode 10018, reward 2407.0, memory_length 2000, epsilon -3.029894839199277e-05\n",
      "episode 10019, reward 3137.0, memory_length 2000, epsilon -3.029743348244623e-05\n",
      "episode 10020, reward 2141.0, memory_length 2000, epsilon -3.0295918648643267e-05\n",
      "episode 10021, reward 2061.0, memory_length 2000, epsilon -3.0294403890580104e-05\n",
      "episode 10022, reward 1854.0, memory_length 2000, epsilon -3.029288920825295e-05\n",
      "episode 10023, reward 1808.0, memory_length 2000, epsilon -3.0291374601658014e-05\n",
      "episode 10024, reward 2771.0, memory_length 2000, epsilon -3.028986007079152e-05\n",
      "episode 10025, reward 2609.0, memory_length 2000, epsilon -3.028834561564967e-05\n",
      "episode 10026, reward 3648.0, memory_length 2000, epsilon -3.028683123622869e-05\n",
      "episode 10027, reward 3538.0, memory_length 2000, epsilon -3.028531693252479e-05\n",
      "episode 10028, reward 4456.0, memory_length 2000, epsilon -3.0283802704534174e-05\n",
      "episode 10029, reward 4676.0, memory_length 2000, epsilon -3.0282288552253075e-05\n",
      "episode 10030, reward 3061.0, memory_length 2000, epsilon -3.0280774475677693e-05\n",
      "episode 10031, reward 2986.0, memory_length 2000, epsilon -3.0279260474804245e-05\n",
      "episode 10032, reward 3954.0, memory_length 2000, epsilon -3.0277746549628948e-05\n",
      "episode 10033, reward 3100.0, memory_length 2000, epsilon -3.0276232700148016e-05\n",
      "episode 10034, reward 3094.0, memory_length 2000, epsilon -3.0274718926357677e-05\n",
      "episode 10035, reward 1984.0, memory_length 2000, epsilon -3.027320522825412e-05\n",
      "episode 10036, reward 4237.0, memory_length 2000, epsilon -3.0271691605833586e-05\n",
      "episode 10037, reward 3038.0, memory_length 2000, epsilon -3.027017805909228e-05\n",
      "episode 10038, reward 4763.0, memory_length 2000, epsilon -3.026866458802641e-05\n",
      "episode 10039, reward 2217.0, memory_length 2000, epsilon -3.0267151192632216e-05\n",
      "episode 10040, reward 3379.0, memory_length 2000, epsilon -3.0265637872905896e-05\n",
      "episode 10041, reward 3231.0, memory_length 2000, epsilon -3.026412462884366e-05\n",
      "episode 10042, reward 3335.0, memory_length 2000, epsilon -3.026261146044174e-05\n",
      "episode 10043, reward 3403.0, memory_length 2000, epsilon -3.0261098367696357e-05\n",
      "episode 10044, reward 3966.0, memory_length 2000, epsilon -3.0259585350603715e-05\n",
      "episode 10045, reward 4427.0, memory_length 2000, epsilon -3.025807240916004e-05\n",
      "episode 10046, reward 3403.0, memory_length 2000, epsilon -3.025655954336154e-05\n",
      "episode 10047, reward 2721.0, memory_length 2000, epsilon -3.0255046753204434e-05\n",
      "episode 10048, reward 3979.0, memory_length 2000, epsilon -3.0253534038684954e-05\n",
      "episode 10049, reward 3002.0, memory_length 2000, epsilon -3.025202139979931e-05\n",
      "episode 10050, reward 2718.0, memory_length 2000, epsilon -3.025050883654371e-05\n",
      "episode 10051, reward 2849.0, memory_length 2000, epsilon -3.0248996348914393e-05\n",
      "episode 10052, reward 4763.0, memory_length 2000, epsilon -3.0247483936907566e-05\n",
      "episode 10053, reward 2705.0, memory_length 2000, epsilon -3.0245971600519446e-05\n",
      "episode 10054, reward 2973.0, memory_length 2000, epsilon -3.024445933974625e-05\n",
      "episode 10055, reward 3404.0, memory_length 2000, epsilon -3.024294715458421e-05\n",
      "episode 10056, reward 2785.0, memory_length 2000, epsilon -3.0241435045029536e-05\n",
      "episode 10057, reward 1963.0, memory_length 2000, epsilon -3.0239923011078447e-05\n",
      "episode 10058, reward 4007.0, memory_length 2000, epsilon -3.0238411052727166e-05\n",
      "episode 10059, reward 3199.0, memory_length 2000, epsilon -3.0236899169971912e-05\n",
      "episode 10060, reward 3131.0, memory_length 2000, epsilon -3.023538736280891e-05\n",
      "episode 10061, reward 3297.0, memory_length 2000, epsilon -3.023387563123437e-05\n",
      "episode 10062, reward 2705.0, memory_length 2000, epsilon -3.0232363975244527e-05\n",
      "episode 10063, reward 1972.0, memory_length 2000, epsilon -3.023085239483559e-05\n",
      "episode 10064, reward 2897.0, memory_length 2000, epsilon -3.022934089000378e-05\n",
      "episode 10065, reward 3358.0, memory_length 2000, epsilon -3.0227829460745328e-05\n",
      "episode 10066, reward 3101.0, memory_length 2000, epsilon -3.022631810705645e-05\n",
      "episode 10067, reward 2136.0, memory_length 2000, epsilon -3.022480682893336e-05\n",
      "episode 10068, reward 4200.0, memory_length 2000, epsilon -3.0223295626372295e-05\n",
      "episode 10069, reward 3421.0, memory_length 2000, epsilon -3.0221784499369465e-05\n",
      "episode 10070, reward 3099.0, memory_length 2000, epsilon -3.0220273447921098e-05\n",
      "episode 10071, reward 3266.0, memory_length 2000, epsilon -3.0218762472023417e-05\n",
      "episode 10072, reward 3451.0, memory_length 2000, epsilon -3.0217251571672638e-05\n",
      "episode 10073, reward 2987.0, memory_length 2000, epsilon -3.021574074686499e-05\n",
      "episode 10074, reward 2896.0, memory_length 2000, epsilon -3.0214229997596695e-05\n",
      "episode 10075, reward 2772.0, memory_length 2000, epsilon -3.021271932386397e-05\n",
      "episode 10076, reward 2197.0, memory_length 2000, epsilon -3.021120872566304e-05\n",
      "episode 10077, reward 3215.0, memory_length 2000, epsilon -3.0209698202990146e-05\n",
      "episode 10078, reward 2097.0, memory_length 2000, epsilon -3.020818775584149e-05\n",
      "episode 10079, reward 2187.0, memory_length 2000, epsilon -3.0206677384213305e-05\n",
      "episode 10080, reward 1906.0, memory_length 2000, epsilon -3.020516708810181e-05\n",
      "episode 10081, reward 3814.0, memory_length 2000, epsilon -3.020365686750324e-05\n",
      "episode 10082, reward 3297.0, memory_length 2000, epsilon -3.02021467224138e-05\n",
      "episode 10083, reward 2545.0, memory_length 2000, epsilon -3.0200636652829735e-05\n",
      "episode 10084, reward 2714.0, memory_length 2000, epsilon -3.0199126658747262e-05\n",
      "episode 10085, reward 2585.0, memory_length 2000, epsilon -3.0197616740162605e-05\n",
      "episode 10086, reward 2163.0, memory_length 2000, epsilon -3.0196106897071985e-05\n",
      "episode 10087, reward 989.0, memory_length 2000, epsilon -3.0194597129471634e-05\n",
      "episode 10088, reward 2331.0, memory_length 2000, epsilon -3.019308743735778e-05\n",
      "episode 10089, reward 2800.0, memory_length 2000, epsilon -3.019157782072664e-05\n",
      "episode 10090, reward 1862.0, memory_length 2000, epsilon -3.0190068279574446e-05\n",
      "episode 10091, reward 2097.0, memory_length 2000, epsilon -3.0188558813897428e-05\n",
      "episode 10092, reward 2283.0, memory_length 2000, epsilon -3.0187049423691797e-05\n",
      "episode 10093, reward 2177.0, memory_length 2000, epsilon -3.01855401089538e-05\n",
      "episode 10094, reward 3573.0, memory_length 2000, epsilon -3.0184030869679647e-05\n",
      "episode 10095, reward 2684.0, memory_length 2000, epsilon -3.0182521705865574e-05\n",
      "episode 10096, reward 1596.0, memory_length 2000, epsilon -3.0181012617507802e-05\n",
      "episode 10097, reward 2996.0, memory_length 2000, epsilon -3.0179503604602566e-05\n",
      "episode 10098, reward 2857.0, memory_length 2000, epsilon -3.0177994667146085e-05\n",
      "episode 10099, reward 1766.0, memory_length 2000, epsilon -3.0176485805134595e-05\n",
      "episode 10100, reward 1700.0, memory_length 2000, epsilon -3.0174977018564315e-05\n"
     ]
    },
    {
     "name": "stdout",
     "output_type": "stream",
     "text": [
      "episode 10101, reward 2118.0, memory_length 2000, epsilon -3.0173468307431487e-05\n",
      "episode 10102, reward 2497.0, memory_length 2000, epsilon -3.0171959671732313e-05\n",
      "episode 10103, reward 2696.0, memory_length 2000, epsilon -3.017045111146305e-05\n",
      "episode 10104, reward 2287.0, memory_length 2000, epsilon -3.016894262661991e-05\n",
      "episode 10105, reward 2266.0, memory_length 2000, epsilon -3.016743421719913e-05\n",
      "episode 10106, reward 2045.0, memory_length 2000, epsilon -3.0165925883196938e-05\n",
      "episode 10107, reward 1965.0, memory_length 2000, epsilon -3.0164417624609548e-05\n",
      "episode 10108, reward 2375.0, memory_length 2000, epsilon -3.016290944143322e-05\n",
      "episode 10109, reward 3178.0, memory_length 2000, epsilon -3.0161401333664152e-05\n",
      "episode 10110, reward 2683.0, memory_length 2000, epsilon -3.015989330129859e-05\n",
      "episode 10111, reward 2904.0, memory_length 2000, epsilon -3.015838534433277e-05\n",
      "episode 10112, reward 2726.0, memory_length 2000, epsilon -3.01568774627629e-05\n",
      "episode 10113, reward 2581.0, memory_length 2000, epsilon -3.0155369656585237e-05\n",
      "episode 10114, reward 1649.0, memory_length 2000, epsilon -3.015386192579599e-05\n",
      "episode 10115, reward 1971.0, memory_length 2000, epsilon -3.0152354270391396e-05\n",
      "episode 10116, reward 1737.0, memory_length 2000, epsilon -3.0150846690367697e-05\n",
      "episode 10117, reward 2082.0, memory_length 2000, epsilon -3.014933918572111e-05\n",
      "episode 10118, reward 3118.0, memory_length 2000, epsilon -3.0147831756447864e-05\n",
      "episode 10119, reward 2333.0, memory_length 2000, epsilon -3.0146324402544208e-05\n",
      "episode 10120, reward 2047.0, memory_length 2000, epsilon -3.014481712400635e-05\n",
      "episode 10121, reward 4248.0, memory_length 2000, epsilon -3.0143309920830548e-05\n",
      "episode 10122, reward 2961.0, memory_length 2000, epsilon -3.014180279301302e-05\n",
      "episode 10123, reward 3337.0, memory_length 2000, epsilon -3.014029574054999e-05\n",
      "episode 10124, reward 2221.0, memory_length 2000, epsilon -3.0138788763437708e-05\n",
      "episode 10125, reward 1831.0, memory_length 2000, epsilon -3.0137281861672396e-05\n",
      "episode 10126, reward 3839.0, memory_length 2000, epsilon -3.013577503525028e-05\n",
      "episode 10127, reward 2727.0, memory_length 2000, epsilon -3.013426828416761e-05\n",
      "episode 10128, reward 2774.0, memory_length 2000, epsilon -3.0132761608420612e-05\n",
      "episode 10129, reward 3433.0, memory_length 2000, epsilon -3.013125500800551e-05\n",
      "episode 10130, reward 3880.0, memory_length 2000, epsilon -3.012974848291855e-05\n",
      "episode 10131, reward 3529.0, memory_length 2000, epsilon -3.0128242033155962e-05\n"
     ]
    }
   ],
   "source": [
    "env = CabDriver()\n",
    "state_size = 5+7+24+5+5 # equal to 4 in case of cartpole \n",
    "action_size = len(env.action_space)            # equal to 2 in case of cartpole\n",
    "agent= DQNAgent(state_size,action_size)\n",
    "rewards_per_episode, episodes = [], []\n",
    "\n",
    "LR = agent.learning_rate\n",
    "GAMMA = agent.discount_factor\n",
    "threshold = 1000\n",
    "policy_threshold = 1000\n",
    "if not os.path.exists(\"saved_model_weights\"):\n",
    "    os.mkdir(\"saved_model_weights\")\n",
    "    \n",
    "for episode in range(10000,Episodes):\n",
    "    \n",
    "    score = 0\n",
    "    time_stamp=0\n",
    "    action_space,state_space,state = env.reset()\n",
    "    # Write code here\n",
    "    # Call the environment\n",
    "    # Call all the initialised variables of the environment\n",
    "#     agent.epsilon = - 1/ (1 + np.exp((-episode+7500000)/17000000)) + 1\n",
    "    agent.epsilon = (1 - 0.00001) * np.exp(agent.epsilon_decay * episode)\n",
    "    \n",
    "    initial_state = env.state_init\n",
    "    #Call the DQN agent\n",
    "    terminal_state=False\n",
    "    while not terminal_state:\n",
    "#         agent.epsilon = agent.epsilon_min + (agent.epsilon_max - agent.epsilon_min) * np.exp(-agent.epsilon_decay*episode)\n",
    "        if time_stamp > 30*24:\n",
    "            terminal_state=True;\n",
    "        z = np.random.random()\n",
    "        time_stamp+=1\n",
    "        action = env.requests(state)[1]\n",
    "        agent.action_size=len(action)\n",
    "        take_action=agent.get_action(env.state_encod_arch2(state,(0,0)),action)\n",
    "        next_state = env.next_state_func(state,take_action,Time_matrix)\n",
    "        reward= env.reward_func(state,take_action,Time_matrix)\n",
    "        agent.append_sample(state, take_action, reward, next_state)\n",
    "        max_next = max(Q_dict[next_state],key=Q_dict[next_state].get)\n",
    "        Q_dict[state][take_action] += LR * ((reward + (GAMMA*(Q_dict[next_state][max_next]))) - Q_dict[state][take_action] ) \n",
    "            \n",
    "\n",
    "            \n",
    "        score += reward\n",
    "        state = next_state\n",
    "\n",
    "        agent.train_model(terminal_state)\n",
    "        \n",
    "    \n",
    "        \n",
    "    rewards_per_episode.append(score)\n",
    "    episodes.append(episode)\n",
    "    \n",
    "    if agent.epsilon > agent.epsilon_min:\n",
    "        agent.epsilon *= agent.epsilon_decay\n",
    "        \n",
    "    print(\"episode {0}, reward {1}, memory_length {2}, epsilon {3}\".format(episode,\n",
    "                                                                         score,\n",
    "                                                                         len(agent.memory),\n",
    "                                                                         agent.epsilon))\n",
    "    if episode % 10 == 0:\n",
    "        # store q-values of some prespecified state-action pairs\n",
    "        # q_dict = agent.store_q_values()\n",
    "\n",
    "        # save model weights\n",
    "        agent.save(name=\"model_weights.h5\")\n",
    "\n",
    "    if initial_state in rewards_tracked:     #storing rewards\n",
    "        rewards_tracked[initial_state].append(score)\n",
    "        #save_obj(rewards_tracked,'Rewards')\n",
    "\n",
    "    if ((episode+1) % threshold) == 0:   #every 2000th episode\n",
    "        save_obj(rewards_tracked,'Rewards')   \n",
    "    \n",
    "    #TRACKING Q-VALUES\n",
    "    if (episode == threshold-1):        #at the 1999th episode\n",
    "        initialise_tracking_states()\n",
    "      \n",
    "    if ((episode+1) % threshold) == 0:   #every 2000th episode\n",
    "        save_tracking_states()\n",
    "        save_obj(States_track,'States_tracked')   \n",
    "    \n",
    "    #SAVING POLICY\n",
    "    if ((episode+1)% policy_threshold ) == 0:  #every 30000th episodes, the Q-dict will be saved\n",
    "        save_obj(Q_dict,'Policy')    \n",
    "        \n",
    "        \n",
    "save_obj(rewards_tracked,'Rewards')   \n",
    "save_obj(States_track,'States_tracked')   \n",
    "save_obj(Q_dict,'Policy')      \n",
    "print(episode)\n",
    "    \n",
    "    "
   ]
  },
  {
   "cell_type": "code",
   "execution_count": null,
   "metadata": {},
   "outputs": [],
   "source": [
    "for arr in env.state_space:\n",
    "    if arr[2]==25:\n",
    "        print(arr)"
   ]
  },
  {
   "cell_type": "code",
   "execution_count": null,
   "metadata": {},
   "outputs": [],
   "source": [
    "env.state_space"
   ]
  },
  {
   "cell_type": "markdown",
   "metadata": {},
   "source": [
    "### Tracking Convergence"
   ]
  },
  {
   "cell_type": "code",
   "execution_count": null,
   "metadata": {},
   "outputs": [],
   "source": []
  },
  {
   "cell_type": "code",
   "execution_count": null,
   "metadata": {},
   "outputs": [],
   "source": []
  },
  {
   "cell_type": "code",
   "execution_count": null,
   "metadata": {},
   "outputs": [],
   "source": []
  },
  {
   "cell_type": "markdown",
   "metadata": {},
   "source": [
    "#### Epsilon-decay sample function"
   ]
  },
  {
   "cell_type": "markdown",
   "metadata": {},
   "source": [
    "<div class=\"alert alert-block alert-info\">\n",
    "Try building a similar epsilon-decay function for your model.\n",
    "</div>"
   ]
  },
  {
   "cell_type": "code",
   "execution_count": null,
   "metadata": {},
   "outputs": [],
   "source": [
    "time = np.arange(0,10000)\n",
    "epsilon = []\n",
    "for i in range(0,10000):\n",
    "    epsilon.append(0 + (1 - 0) * np.exp(-0.0009*i))"
   ]
  },
  {
   "cell_type": "code",
   "execution_count": null,
   "metadata": {},
   "outputs": [],
   "source": [
    "plt.plot(time, epsilon)\n",
    "plt.show()"
   ]
  },
  {
   "cell_type": "code",
   "execution_count": null,
   "metadata": {},
   "outputs": [],
   "source": [
    "env = CabDriver()\n",
    "state_size = env.state_space.shape[0]"
   ]
  },
  {
   "cell_type": "code",
   "execution_count": null,
   "metadata": {},
   "outputs": [],
   "source": [
    "state_size"
   ]
  },
  {
   "cell_type": "code",
   "execution_count": null,
   "metadata": {},
   "outputs": [],
   "source": []
  },
  {
   "cell_type": "code",
   "execution_count": null,
   "metadata": {},
   "outputs": [],
   "source": [
    "\n"
   ]
  },
  {
   "cell_type": "code",
   "execution_count": null,
   "metadata": {},
   "outputs": [],
   "source": []
  },
  {
   "cell_type": "code",
   "execution_count": null,
   "metadata": {},
   "outputs": [],
   "source": []
  },
  {
   "cell_type": "code",
   "execution_count": null,
   "metadata": {},
   "outputs": [],
   "source": []
  },
  {
   "cell_type": "code",
   "execution_count": null,
   "metadata": {},
   "outputs": [],
   "source": []
  },
  {
   "cell_type": "code",
   "execution_count": null,
   "metadata": {},
   "outputs": [],
   "source": []
  },
  {
   "cell_type": "code",
   "execution_count": null,
   "metadata": {},
   "outputs": [],
   "source": [
    "np.argmax([10,14,15,45])"
   ]
  },
  {
   "cell_type": "code",
   "execution_count": null,
   "metadata": {},
   "outputs": [],
   "source": []
  },
  {
   "cell_type": "code",
   "execution_count": null,
   "metadata": {},
   "outputs": [],
   "source": []
  },
  {
   "cell_type": "code",
   "execution_count": null,
   "metadata": {},
   "outputs": [],
   "source": []
  }
 ],
 "metadata": {
  "kernelspec": {
   "display_name": "Python 3",
   "language": "python",
   "name": "python3"
  },
  "language_info": {
   "codemirror_mode": {
    "name": "ipython",
    "version": 3
   },
   "file_extension": ".py",
   "mimetype": "text/x-python",
   "name": "python",
   "nbconvert_exporter": "python",
   "pygments_lexer": "ipython3",
   "version": "3.6.8"
  }
 },
 "nbformat": 4,
 "nbformat_minor": 2
}
